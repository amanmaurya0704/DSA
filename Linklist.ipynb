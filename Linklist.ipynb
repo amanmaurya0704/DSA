{
 "cells": [
  {
   "cell_type": "code",
   "execution_count": 1,
   "metadata": {},
   "outputs": [],
   "source": [
    "a=10"
   ]
  },
  {
   "cell_type": "markdown",
   "metadata": {},
   "source": [
    "# Create LinkList"
   ]
  },
  {
   "cell_type": "code",
   "execution_count": 2,
   "metadata": {},
   "outputs": [
    {
     "name": "stdout",
     "output_type": "stream",
     "text": [
      "10 ->20 ->30 ->"
     ]
    }
   ],
   "source": [
    "class Node:\n",
    "    def __init__(self,value):\n",
    "        self.data = value\n",
    "        self.next = None\n",
    "def print_LL(head):\n",
    "    temp = head\n",
    "    while(head!=None):\n",
    "        print(head.data,\"->\",end=\"\")\n",
    "        head = head.next\n",
    "    \n",
    "first = Node(10)\n",
    "second = Node(20)\n",
    "third = Node(30)\n",
    "first.next = second\n",
    "second.next = third\n",
    "\n",
    "print_LL(first)"
   ]
  },
  {
   "cell_type": "markdown",
   "metadata": {},
   "source": [
    "# Input in LinkList"
   ]
  },
  {
   "cell_type": "code",
   "execution_count": null,
   "metadata": {},
   "outputs": [
    {
     "name": "stdout",
     "output_type": "stream",
     "text": [
      "10 ->20 ->30 ->40 ->"
     ]
    }
   ],
   "source": [
    "class Node:\n",
    "    def __init__(self,value):\n",
    "        self.data = value\n",
    "        self.next = None\n",
    "def print_LL(head):\n",
    "    temp = head\n",
    "    while(head!=None):\n",
    "        print(head.data,\"->\",end=\"\")\n",
    "        head = head.next\n",
    "    return\n",
    "def take_input():\n",
    "    value = int(input(\"Enter value\"))\n",
    "    head = None\n",
    "    while (value != -1):\n",
    "        newNode = Node(value)\n",
    "        if head == None:\n",
    "            head = newNode\n",
    "        else:\n",
    "            temp = head\n",
    "            while(temp.next != None):\n",
    "                temp = temp.next\n",
    "            temp.next = newNode\n",
    "        value = int(input(\"enter value\"))\n",
    "    return head\n",
    "\n",
    "newLL = take_input()\n",
    "print_LL(newLL)\n",
    "            "
   ]
  },
  {
   "cell_type": "code",
   "execution_count": 16,
   "metadata": {},
   "outputs": [
    {
     "name": "stdout",
     "output_type": "stream",
     "text": [
      "10 ->20 ->30 ->40 ->50 ->"
     ]
    }
   ],
   "source": [
    "def take_input_optimized():\n",
    "    value = int(input(\"Enter Value\"))\n",
    "    head = None\n",
    "    tail = None\n",
    "    while value!=-1:\n",
    "        newNode = Node(value)\n",
    "        if head==None:\n",
    "            head=newNode\n",
    "            tail = newNode\n",
    "        else:\n",
    "            tail.next = newNode\n",
    "            tail = newNode\n",
    "        value = int(input(\"Enter Value\"))\n",
    "    return head\n",
    "newLL = take_input_optimized()\n",
    "print_LL(newLL)"
   ]
  },
  {
   "cell_type": "code",
   "execution_count": null,
   "metadata": {},
   "outputs": [],
   "source": []
  }
 ],
 "metadata": {
  "kernelspec": {
   "display_name": "base",
   "language": "python",
   "name": "python3"
  },
  "language_info": {
   "codemirror_mode": {
    "name": "ipython",
    "version": 3
   },
   "file_extension": ".py",
   "mimetype": "text/x-python",
   "name": "python",
   "nbconvert_exporter": "python",
   "pygments_lexer": "ipython3",
   "version": "3.11.7"
  }
 },
 "nbformat": 4,
 "nbformat_minor": 2
}
